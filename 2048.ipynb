{
  "nbformat": 4,
  "nbformat_minor": 0,
  "metadata": {
    "colab": {
      "provenance": []
    },
    "kernelspec": {
      "name": "python3",
      "display_name": "Python 3"
    },
    "language_info": {
      "name": "python"
    }
  },
  "cells": [
    {
      "cell_type": "code",
      "execution_count": null,
      "metadata": {
        "id": "a_mQWz-9TBlG"
      },
      "outputs": [],
      "source": [
        "import random"
      ]
    },
    {
      "cell_type": "code",
      "source": [
        "def print_board():\n",
        "    print(\"-----------------------------------------\")\n",
        "    for i in range(4):\n",
        "        for j in range(4):\n",
        "            num = board[i][j]\n",
        "            print(\"| \", end=\"\")\n",
        "            if num != 0:\n",
        "                print(num, end=\"\")\n",
        "            else:\n",
        "                print(\" \", end=\"\")\n",
        "\n",
        "            length = len(str(num))\n",
        "            print(\" \" * (8 - length), end=\"\")\n",
        "        print(\"|\")\n",
        "        print(\"-----------------------------------------\")"
      ],
      "metadata": {
        "id": "Z4CCJHY0e5HZ"
      },
      "execution_count": null,
      "outputs": []
    },
    {
      "cell_type": "code",
      "source": [
        "def setup():\n",
        "    generate_new_tile()\n",
        "    generate_new_tile()"
      ],
      "metadata": {
        "id": "q7Z46QBTUHjD"
      },
      "execution_count": null,
      "outputs": []
    },
    {
      "cell_type": "code",
      "source": [
        "def generate_new_tile():\n",
        "    tile_number = 2 if random.randint(0, 9) < 8 else 4\n",
        "    while True:\n",
        "        x, y = random.randint(0, 3), random.randint(0, 3)\n",
        "        if board[x][y] == 0:\n",
        "            board[x][y] = tile_number\n",
        "            break"
      ],
      "metadata": {
        "id": "F0Xo2X51ViNb"
      },
      "execution_count": null,
      "outputs": []
    },
    {
      "cell_type": "code",
      "source": [
        "def turn():\n",
        "  move = input(\"Enter move: \").lower()\n",
        "  while (move != \"w\" and move != \"a\" and move != \"s\" and move != \"d\"):\n",
        "    move = input(\"Invalid move. Enter move: \")\n",
        "\n",
        "    # i is row, j is col\n",
        "\n",
        "  if move == \"w\":\n",
        "    for j in range(4):\n",
        "      col = []\n",
        "\n",
        "      for i in range(4):\n",
        "        if board[i][j] != 0:\n",
        "          col.append(board[i][j])\n",
        "\n",
        "      for i in range(len(col) - 1):\n",
        "        if col[i] == col[i + 1]:\n",
        "          col[i] *= 2\n",
        "          col[i + 1] = 0\n",
        "          global score\n",
        "          score += col[i]\n",
        "\n",
        "      new_col = []\n",
        "      for num in col:\n",
        "        if num != 0:\n",
        "          new_col.append(num)\n",
        "\n",
        "      while len(new_col) < 4:\n",
        "        new_col.append(0)\n",
        "\n",
        "      for i in range(4):\n",
        "        board[i][j] = new_col[i]\n",
        "\n",
        "  elif move == \"s\":\n",
        "    for j in range(4):\n",
        "      col = []\n",
        "\n",
        "      for i in range(3, -1, -1):\n",
        "        if board[i][j] != 0:\n",
        "          col.append(board[i][j])\n",
        "\n",
        "      for i in range(len(col) - 1):\n",
        "        if col[i] == col[i + 1]:\n",
        "          col[i] *= 2\n",
        "          col[i + 1] = 0\n",
        "          score += col[i]\n",
        "\n",
        "      new_col = []\n",
        "      for num in col:\n",
        "        if num != 0:\n",
        "          new_col.append(num)\n",
        "\n",
        "      while len(new_col) < 4:\n",
        "          new_col.append(0)\n",
        "\n",
        "      for i in range(4):\n",
        "          board[3 - i][j] = new_col[i]\n",
        "\n",
        "  elif move == \"a\":\n",
        "    for i in range(4):\n",
        "      row = []\n",
        "\n",
        "      for j in range(4):\n",
        "        if board[i][j] != 0:\n",
        "          row.append(board[i][j])\n",
        "\n",
        "      for j in range(len(row) - 1):\n",
        "        if row[j] == row[j + 1]:\n",
        "          row[j] *= 2\n",
        "          row[j + 1] = 0\n",
        "          score += row[j]\n",
        "\n",
        "      new_row = []\n",
        "      for num in row:\n",
        "        if num != 0:\n",
        "          new_row.append(num)\n",
        "\n",
        "      while len(new_row) < 4:\n",
        "        new_row.append(0)\n",
        "\n",
        "      for j in range(4):\n",
        "        board[i][j] = new_row[j]\n",
        "\n",
        "  elif move == \"d\":\n",
        "    for i in range(4):\n",
        "      row = []\n",
        "\n",
        "      for j in range(3, -1, -1):\n",
        "        if board[i][j] != 0:\n",
        "          row.append(board[i][j])\n",
        "\n",
        "      for j in range(len(row) - 1):\n",
        "        if row[j] == row[j + 1]:\n",
        "          row[j] *= 2\n",
        "          row[j + 1] = 0\n",
        "          score += row[j]\n",
        "\n",
        "      new_row = []\n",
        "      for num in row:\n",
        "        if num != 0:\n",
        "          new_row.append(num)\n",
        "\n",
        "      while len(new_row) < 4:\n",
        "        new_row.append(0)\n",
        "\n",
        "      for j in range(4):\n",
        "        board[i][3 - j] = new_row[j]\n",
        "\n"
      ],
      "metadata": {
        "id": "EpM1EeK1VcXF"
      },
      "execution_count": null,
      "outputs": []
    },
    {
      "cell_type": "code",
      "source": [
        "def is_empty():\n",
        "  for i in range(4):\n",
        "    for j in range(4):\n",
        "      if board[i][j] == 0:\n",
        "        return True\n",
        "  return False\n",
        "\n",
        "def is_game_over():\n",
        "  if not is_empty():\n",
        "    return False\n",
        "\n",
        "  # row\n",
        "  for i in range(4):\n",
        "    for j in range(3):\n",
        "      if board[i][j] == board[i][j + 1]:\n",
        "        return False\n",
        "\n",
        "  # col\n",
        "  for j in range(4):\n",
        "    for i in range(3):\n",
        "      if board[i][j] == board[i + 1][j]:\n",
        "        return False\n",
        "\n",
        "  return True"
      ],
      "metadata": {
        "id": "_d4yvLX8iBY5"
      },
      "execution_count": null,
      "outputs": []
    },
    {
      "cell_type": "code",
      "source": [
        "score = 0\n",
        "board = [[0, 0, 0, 0], [0, 0, 0, 0], [0, 0, 0, 0], [0, 0, 0, 0]]\n",
        "setup()\n",
        "print_board()\n",
        "while (True):\n",
        "  turn()\n",
        "  if is_game_over():\n",
        "    print(\"Game Over\")\n",
        "    print(\"Score: \", score)\n",
        "    break\n",
        "  generate_new_tile()\n",
        "  print_board()"
      ],
      "metadata": {
        "colab": {
          "base_uri": "https://localhost:8080/",
          "height": 530
        },
        "id": "pB_MHglifX-H",
        "outputId": "258cd15c-6842-4ea0-9d55-b8eb21b0cd3a"
      },
      "execution_count": null,
      "outputs": [
        {
          "output_type": "stream",
          "name": "stdout",
          "text": [
            "-----------------------------------------\n",
            "|         |         |         |         |\n",
            "-----------------------------------------\n",
            "|         |         |         | 4       |\n",
            "-----------------------------------------\n",
            "|         |         |         | 2       |\n",
            "-----------------------------------------\n",
            "|         |         |         |         |\n",
            "-----------------------------------------\n"
          ]
        },
        {
          "output_type": "error",
          "ename": "KeyboardInterrupt",
          "evalue": "Interrupted by user",
          "traceback": [
            "\u001b[0;31m---------------------------------------------------------------------------\u001b[0m",
            "\u001b[0;31mKeyboardInterrupt\u001b[0m                         Traceback (most recent call last)",
            "\u001b[0;32m<ipython-input-39-dfc6b2e6ae23>\u001b[0m in \u001b[0;36m<cell line: 0>\u001b[0;34m()\u001b[0m\n\u001b[1;32m      4\u001b[0m \u001b[0mprint_board\u001b[0m\u001b[0;34m(\u001b[0m\u001b[0;34m)\u001b[0m\u001b[0;34m\u001b[0m\u001b[0;34m\u001b[0m\u001b[0m\n\u001b[1;32m      5\u001b[0m \u001b[0;32mwhile\u001b[0m \u001b[0;34m(\u001b[0m\u001b[0;32mTrue\u001b[0m\u001b[0;34m)\u001b[0m\u001b[0;34m:\u001b[0m\u001b[0;34m\u001b[0m\u001b[0;34m\u001b[0m\u001b[0m\n\u001b[0;32m----> 6\u001b[0;31m   \u001b[0mturn\u001b[0m\u001b[0;34m(\u001b[0m\u001b[0;34m)\u001b[0m\u001b[0;34m\u001b[0m\u001b[0;34m\u001b[0m\u001b[0m\n\u001b[0m\u001b[1;32m      7\u001b[0m   \u001b[0;32mif\u001b[0m \u001b[0mis_game_over\u001b[0m\u001b[0;34m(\u001b[0m\u001b[0;34m)\u001b[0m\u001b[0;34m:\u001b[0m\u001b[0;34m\u001b[0m\u001b[0;34m\u001b[0m\u001b[0m\n\u001b[1;32m      8\u001b[0m     \u001b[0mprint\u001b[0m\u001b[0;34m(\u001b[0m\u001b[0;34m\"Game Over\"\u001b[0m\u001b[0;34m)\u001b[0m\u001b[0;34m\u001b[0m\u001b[0;34m\u001b[0m\u001b[0m\n",
            "\u001b[0;32m<ipython-input-38-1bf61f800e88>\u001b[0m in \u001b[0;36mturn\u001b[0;34m()\u001b[0m\n\u001b[1;32m      1\u001b[0m \u001b[0;32mdef\u001b[0m \u001b[0mturn\u001b[0m\u001b[0;34m(\u001b[0m\u001b[0;34m)\u001b[0m\u001b[0;34m:\u001b[0m\u001b[0;34m\u001b[0m\u001b[0;34m\u001b[0m\u001b[0m\n\u001b[0;32m----> 2\u001b[0;31m   \u001b[0mmove\u001b[0m \u001b[0;34m=\u001b[0m \u001b[0minput\u001b[0m\u001b[0;34m(\u001b[0m\u001b[0;34m\"Enter move: \"\u001b[0m\u001b[0;34m)\u001b[0m\u001b[0;34m.\u001b[0m\u001b[0mlower\u001b[0m\u001b[0;34m(\u001b[0m\u001b[0;34m)\u001b[0m\u001b[0;34m\u001b[0m\u001b[0;34m\u001b[0m\u001b[0m\n\u001b[0m\u001b[1;32m      3\u001b[0m   \u001b[0;32mwhile\u001b[0m \u001b[0;34m(\u001b[0m\u001b[0mmove\u001b[0m \u001b[0;34m!=\u001b[0m \u001b[0;34m\"w\"\u001b[0m \u001b[0;32mand\u001b[0m \u001b[0mmove\u001b[0m \u001b[0;34m!=\u001b[0m \u001b[0;34m\"a\"\u001b[0m \u001b[0;32mand\u001b[0m \u001b[0mmove\u001b[0m \u001b[0;34m!=\u001b[0m \u001b[0;34m\"s\"\u001b[0m \u001b[0;32mand\u001b[0m \u001b[0mmove\u001b[0m \u001b[0;34m!=\u001b[0m \u001b[0;34m\"d\"\u001b[0m\u001b[0;34m)\u001b[0m\u001b[0;34m:\u001b[0m\u001b[0;34m\u001b[0m\u001b[0;34m\u001b[0m\u001b[0m\n\u001b[1;32m      4\u001b[0m     \u001b[0mmove\u001b[0m \u001b[0;34m=\u001b[0m \u001b[0minput\u001b[0m\u001b[0;34m(\u001b[0m\u001b[0;34m\"Invalid move. Enter move: \"\u001b[0m\u001b[0;34m)\u001b[0m\u001b[0;34m\u001b[0m\u001b[0;34m\u001b[0m\u001b[0m\n\u001b[1;32m      5\u001b[0m \u001b[0;34m\u001b[0m\u001b[0m\n",
            "\u001b[0;32m/usr/local/lib/python3.11/dist-packages/ipykernel/kernelbase.py\u001b[0m in \u001b[0;36mraw_input\u001b[0;34m(self, prompt)\u001b[0m\n\u001b[1;32m    849\u001b[0m                 \u001b[0;34m\"raw_input was called, but this frontend does not support input requests.\"\u001b[0m\u001b[0;34m\u001b[0m\u001b[0;34m\u001b[0m\u001b[0m\n\u001b[1;32m    850\u001b[0m             )\n\u001b[0;32m--> 851\u001b[0;31m         return self._input_request(str(prompt),\n\u001b[0m\u001b[1;32m    852\u001b[0m             \u001b[0mself\u001b[0m\u001b[0;34m.\u001b[0m\u001b[0m_parent_ident\u001b[0m\u001b[0;34m,\u001b[0m\u001b[0;34m\u001b[0m\u001b[0;34m\u001b[0m\u001b[0m\n\u001b[1;32m    853\u001b[0m             \u001b[0mself\u001b[0m\u001b[0;34m.\u001b[0m\u001b[0m_parent_header\u001b[0m\u001b[0;34m,\u001b[0m\u001b[0;34m\u001b[0m\u001b[0;34m\u001b[0m\u001b[0m\n",
            "\u001b[0;32m/usr/local/lib/python3.11/dist-packages/ipykernel/kernelbase.py\u001b[0m in \u001b[0;36m_input_request\u001b[0;34m(self, prompt, ident, parent, password)\u001b[0m\n\u001b[1;32m    893\u001b[0m             \u001b[0;32mexcept\u001b[0m \u001b[0mKeyboardInterrupt\u001b[0m\u001b[0;34m:\u001b[0m\u001b[0;34m\u001b[0m\u001b[0;34m\u001b[0m\u001b[0m\n\u001b[1;32m    894\u001b[0m                 \u001b[0;31m# re-raise KeyboardInterrupt, to truncate traceback\u001b[0m\u001b[0;34m\u001b[0m\u001b[0;34m\u001b[0m\u001b[0m\n\u001b[0;32m--> 895\u001b[0;31m                 \u001b[0;32mraise\u001b[0m \u001b[0mKeyboardInterrupt\u001b[0m\u001b[0;34m(\u001b[0m\u001b[0;34m\"Interrupted by user\"\u001b[0m\u001b[0;34m)\u001b[0m \u001b[0;32mfrom\u001b[0m \u001b[0;32mNone\u001b[0m\u001b[0;34m\u001b[0m\u001b[0;34m\u001b[0m\u001b[0m\n\u001b[0m\u001b[1;32m    896\u001b[0m             \u001b[0;32mexcept\u001b[0m \u001b[0mException\u001b[0m \u001b[0;32mas\u001b[0m \u001b[0me\u001b[0m\u001b[0;34m:\u001b[0m\u001b[0;34m\u001b[0m\u001b[0;34m\u001b[0m\u001b[0m\n\u001b[1;32m    897\u001b[0m                 \u001b[0mself\u001b[0m\u001b[0;34m.\u001b[0m\u001b[0mlog\u001b[0m\u001b[0;34m.\u001b[0m\u001b[0mwarning\u001b[0m\u001b[0;34m(\u001b[0m\u001b[0;34m\"Invalid Message:\"\u001b[0m\u001b[0;34m,\u001b[0m \u001b[0mexc_info\u001b[0m\u001b[0;34m=\u001b[0m\u001b[0;32mTrue\u001b[0m\u001b[0;34m)\u001b[0m\u001b[0;34m\u001b[0m\u001b[0;34m\u001b[0m\u001b[0m\n",
            "\u001b[0;31mKeyboardInterrupt\u001b[0m: Interrupted by user"
          ]
        }
      ]
    }
  ]
}