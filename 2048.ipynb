{
  "nbformat": 4,
  "nbformat_minor": 0,
  "metadata": {
    "colab": {
      "provenance": []
    },
    "kernelspec": {
      "name": "python3",
      "display_name": "Python 3"
    },
    "language_info": {
      "name": "python"
    }
  },
  "cells": [
    {
      "cell_type": "code",
      "execution_count": null,
      "metadata": {
        "id": "a_mQWz-9TBlG"
      },
      "outputs": [],
      "source": [
        "import random"
      ]
    },
    {
      "cell_type": "code",
      "source": [
        "def print_board():\n",
        "    print(\"-----------------------------------------\")\n",
        "    for i in range(4):\n",
        "        for j in range(4):\n",
        "            num = board[i][j]\n",
        "            print(\"| \", end=\"\")\n",
        "            if num != 0:\n",
        "                print(num, end=\"\")\n",
        "            else:\n",
        "                print(\" \", end=\"\")\n",
        "\n",
        "            length = len(str(num))\n",
        "            print(\" \" * (8 - length), end=\"\")\n",
        "        print(\"|\")\n",
        "        print(\"-----------------------------------------\")"
      ],
      "metadata": {
        "id": "Z4CCJHY0e5HZ"
      },
      "execution_count": null,
      "outputs": []
    },
    {
      "cell_type": "code",
      "source": [
        "def setup():\n",
        "    generate_new_tile()\n",
        "    generate_new_tile()"
      ],
      "metadata": {
        "id": "q7Z46QBTUHjD"
      },
      "execution_count": null,
      "outputs": []
    },
    {
      "cell_type": "code",
      "source": [
        "def generate_new_tile():\n",
        "    tile_number = 2 if random.randint(0, 9) < 8 else 4\n",
        "    while True:\n",
        "        x, y = random.randint(0, 3), random.randint(0, 3)\n",
        "        if board[x][y] == 0:\n",
        "            board[x][y] = tile_number\n",
        "            break"
      ],
      "metadata": {
        "id": "F0Xo2X51ViNb"
      },
      "execution_count": null,
      "outputs": []
    },
    {
      "cell_type": "code",
      "source": [
        "def turn():\n",
        "  move = input(\"Enter move: \").lower()\n",
        "  while (move != \"w\" and move != \"a\" and move != \"s\" and move != \"d\"):\n",
        "    move = input(\"Invalid move. Enter move: \")\n",
        "\n",
        "    # i is row, j is col\n",
        "\n",
        "  if move == \"w\":\n",
        "    for j in range(4):\n",
        "      col = []\n",
        "\n",
        "      for i in range(4):\n",
        "        if board[i][j] != 0:\n",
        "          col.append(board[i][j])\n",
        "\n",
        "      for i in range(len(col) - 1):\n",
        "        if col[i] == col[i + 1]:\n",
        "          col[i] *= 2\n",
        "          col[i + 1] = 0\n",
        "          global score\n",
        "          score += col[i]\n",
        "\n",
        "      new_col = []\n",
        "      for num in col:\n",
        "        if num != 0:\n",
        "          new_col.append(num)\n",
        "\n",
        "      while len(new_col) < 4:\n",
        "        new_col.append(0)\n",
        "\n",
        "      for i in range(4):\n",
        "        board[i][j] = new_col[i]\n",
        "\n",
        "  elif move == \"s\":\n",
        "    for j in range(4):\n",
        "      col = []\n",
        "\n",
        "      for i in range(3, -1, -1):\n",
        "        if board[i][j] != 0:\n",
        "          col.append(board[i][j])\n",
        "\n",
        "      for i in range(len(col) - 1):\n",
        "        if col[i] == col[i + 1]:\n",
        "          col[i] *= 2\n",
        "          col[i + 1] = 0\n",
        "          score += col[i]\n",
        "\n",
        "      new_col = []\n",
        "      for num in col:\n",
        "        if num != 0:\n",
        "          new_col.append(num)\n",
        "\n",
        "      while len(new_col) < 4:\n",
        "          new_col.append(0)\n",
        "\n",
        "      for i in range(4):\n",
        "          board[3 - i][j] = new_col[i]\n",
        "\n",
        "  elif move == \"a\":\n",
        "    for i in range(4):\n",
        "      row = []\n",
        "\n",
        "      for j in range(4):\n",
        "        if board[i][j] != 0:\n",
        "          row.append(board[i][j])\n",
        "\n",
        "      for j in range(len(row) - 1):\n",
        "        if row[j] == row[j + 1]:\n",
        "          row[j] *= 2\n",
        "          row[j + 1] = 0\n",
        "          score += row[j]\n",
        "\n",
        "      new_row = []\n",
        "      for num in row:\n",
        "        if num != 0:\n",
        "          new_row.append(num)\n",
        "\n",
        "      while len(new_row) < 4:\n",
        "        new_row.append(0)\n",
        "\n",
        "      for j in range(4):\n",
        "        board[i][j] = new_row[j]\n",
        "\n",
        "  elif move == \"d\":\n",
        "    for i in range(4):\n",
        "      row = []\n",
        "\n",
        "      for j in range(3, -1, -1):\n",
        "        if board[i][j] != 0:\n",
        "          row.append(board[i][j])\n",
        "\n",
        "      for j in range(len(row) - 1):\n",
        "        if row[j] == row[j + 1]:\n",
        "          row[j] *= 2\n",
        "          row[j + 1] = 0\n",
        "          score += row[j]\n",
        "\n",
        "      new_row = []\n",
        "      for num in row:\n",
        "        if num != 0:\n",
        "          new_row.append(num)\n",
        "\n",
        "      while len(new_row) < 4:\n",
        "        new_row.append(0)\n",
        "\n",
        "      for j in range(4):\n",
        "        board[i][3 - j] = new_row[j]\n",
        "\n"
      ],
      "metadata": {
        "id": "EpM1EeK1VcXF"
      },
      "execution_count": null,
      "outputs": []
    },
    {
      "cell_type": "code",
      "source": [
        "def is_empty():\n",
        "  for i in range(4):\n",
        "    for j in range(4):\n",
        "      if board[i][j] == 0:\n",
        "        return True\n",
        "  return False\n",
        "\n",
        "def is_game_over():\n",
        "  if not is_empty():\n",
        "    return False\n",
        "\n",
        "  # row\n",
        "  for i in range(4):\n",
        "    for j in range(3):\n",
        "      if board[i][j] == board[i][j + 1]:\n",
        "        return False\n",
        "\n",
        "  # col\n",
        "  for j in range(4):\n",
        "    for i in range(3):\n",
        "      if board[i][j] == board[i + 1][j]:\n",
        "        return False\n",
        "\n",
        "  return True"
      ],
      "metadata": {
        "id": "_d4yvLX8iBY5"
      },
      "execution_count": null,
      "outputs": []
    },
    {
      "cell_type": "code",
      "source": [
        "score = 0\n",
        "board = [[0, 0, 0, 0], [0, 0, 0, 0], [0, 0, 0, 0], [0, 0, 0, 0]]\n",
        "setup()\n",
        "print_board()\n",
        "while (True):\n",
        "  turn()\n",
        "  if is_game_over():\n",
        "    print(\"Game Over\")\n",
        "    print(\"Score: \", score)\n",
        "    break\n",
        "  generate_new_tile()\n",
        "  print_board()"
      ],
      "metadata": {
        "id": "pB_MHglifX-H"
      },
      "execution_count": null,
      "outputs": []
    }
  ]
}